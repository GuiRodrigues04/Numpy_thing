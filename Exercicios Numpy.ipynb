{
 "cells": [
  {
   "cell_type": "markdown",
   "id": "d42bf3b9",
   "metadata": {},
   "source": [
    "## Numpy exercises and tests.\n",
    "It's just a notebook that i used to learn and test a lot of things using the numpy package. Really simple things. As it's something really really simple and it's just a notebook that i use sometimes when I forgot something i will mantain in portuguese."
   ]
  },
  {
   "cell_type": "code",
   "execution_count": 135,
   "id": "5d4127be",
   "metadata": {},
   "outputs": [],
   "source": [
    "import sys\n",
    "import numpy as np"
   ]
  },
  {
   "cell_type": "code",
   "execution_count": 136,
   "id": "fc144195",
   "metadata": {},
   "outputs": [
    {
     "data": {
      "text/plain": [
       "array([1, 2, 3, 4])"
      ]
     },
     "execution_count": 136,
     "metadata": {},
     "output_type": "execute_result"
    }
   ],
   "source": [
    "# criando array\n",
    "np.array([1, 2, 3, 4])"
   ]
  },
  {
   "cell_type": "code",
   "execution_count": 137,
   "id": "0666bd17",
   "metadata": {},
   "outputs": [
    {
     "data": {
      "text/plain": [
       "array([0., 2., 3., 4.])"
      ]
     },
     "execution_count": 137,
     "metadata": {},
     "output_type": "execute_result"
    }
   ],
   "source": [
    "# criando array com float. Se tem um float logo o array irá transformar todos elementos em floats\n",
    "np.array([0, 2., 3, 4])"
   ]
  },
  {
   "cell_type": "code",
   "execution_count": 138,
   "id": "7b0fdc6a",
   "metadata": {},
   "outputs": [
    {
     "data": {
      "text/plain": [
       "dtype('float64')"
      ]
     },
     "execution_count": 138,
     "metadata": {},
     "output_type": "execute_result"
    }
   ],
   "source": [
    "# para saber o tipo da array precisamos escrever *x.dtype*\n",
    "b = np.array([0, .5, -1, 1.5, 2])\n",
    "b.dtype"
   ]
  },
  {
   "cell_type": "code",
   "execution_count": 139,
   "id": "eb72d186",
   "metadata": {},
   "outputs": [
    {
     "data": {
      "text/plain": [
       "array([2., 3., 4.])"
      ]
     },
     "execution_count": 139,
     "metadata": {},
     "output_type": "execute_result"
    }
   ],
   "source": [
    "#para criar um array de um tipo especifico usamos o seguinte comando:\n",
    "\n",
    "np.array([2,3,4], dtype=np.float64)"
   ]
  },
  {
   "cell_type": "code",
   "execution_count": 140,
   "id": "f37eead4",
   "metadata": {},
   "outputs": [
    {
     "data": {
      "text/plain": [
       "array([1, 3, 4, 5, 1], dtype=int8)"
      ]
     },
     "execution_count": 140,
     "metadata": {},
     "output_type": "execute_result"
    }
   ],
   "source": [
    "np.array([1, 3, 4, 5, 1], dtype=np.int8)"
   ]
  },
  {
   "cell_type": "code",
   "execution_count": 141,
   "id": "f6b4c96d",
   "metadata": {},
   "outputs": [
    {
     "data": {
      "text/plain": [
       "dtype('<U32')"
      ]
     },
     "execution_count": 141,
     "metadata": {},
     "output_type": "execute_result"
    }
   ],
   "source": [
    "c = np.array(['asdqf',1. ,0. , '123f','321', True])\n",
    "c.dtype"
   ]
  },
  {
   "cell_type": "code",
   "execution_count": 142,
   "id": "ec1bc856",
   "metadata": {},
   "outputs": [
    {
     "data": {
      "text/plain": [
       "(2, 5)"
      ]
     },
     "execution_count": 142,
     "metadata": {},
     "output_type": "execute_result"
    }
   ],
   "source": [
    "# pra descobrir as dimensões de uma array usamos o comando shape\n",
    "a = np.array([[0,2,3,4,1],[2,3,4,5,1]])\n",
    "a.shape"
   ]
  },
  {
   "cell_type": "code",
   "execution_count": 143,
   "id": "c4cc2c6c",
   "metadata": {},
   "outputs": [
    {
     "data": {
      "text/plain": [
       "10"
      ]
     },
     "execution_count": 143,
     "metadata": {},
     "output_type": "execute_result"
    }
   ],
   "source": [
    "#descobrir o numero de elementos usamos size\n",
    "a.size"
   ]
  },
  {
   "cell_type": "code",
   "execution_count": 144,
   "id": "6afde8c1",
   "metadata": {},
   "outputs": [
    {
     "data": {
      "text/plain": [
       "2"
      ]
     },
     "execution_count": 144,
     "metadata": {},
     "output_type": "execute_result"
    }
   ],
   "source": [
    "#quantas dimensões uasmos ndim\n",
    "b = np.array([[[0,1],[0,2]],[[0,2],[1,3]]])\n",
    "a.ndim"
   ]
  },
  {
   "cell_type": "code",
   "execution_count": 145,
   "id": "6d8852c4",
   "metadata": {},
   "outputs": [
    {
     "data": {
      "text/plain": [
       "1"
      ]
     },
     "execution_count": 145,
     "metadata": {},
     "output_type": "execute_result"
    }
   ],
   "source": [
    "b[0][0][1]"
   ]
  },
  {
   "cell_type": "code",
   "execution_count": 146,
   "id": "e003e412",
   "metadata": {},
   "outputs": [
    {
     "data": {
      "text/plain": [
       "1"
      ]
     },
     "execution_count": 146,
     "metadata": {},
     "output_type": "execute_result"
    }
   ],
   "source": [
    "b[0, 0, 1]"
   ]
  },
  {
   "cell_type": "code",
   "execution_count": 147,
   "id": "1275ef91",
   "metadata": {},
   "outputs": [
    {
     "data": {
      "text/plain": [
       "[[0, 65], [0, 3], [0, 2]]"
      ]
     },
     "execution_count": 147,
     "metadata": {},
     "output_type": "execute_result"
    }
   ],
   "source": [
    "# mesmo comportamento com arrays.\n",
    "k = [[0,2],[0,3], [0,65]]\n",
    "k[::-1]\n"
   ]
  },
  {
   "cell_type": "code",
   "execution_count": 148,
   "id": "801f01c1",
   "metadata": {},
   "outputs": [
    {
     "name": "stdout",
     "output_type": "stream",
     "text": [
      "2 (3, 3)\n"
     ]
    },
    {
     "data": {
      "text/plain": [
       "array([[ 0, 65, 23]])"
      ]
     },
     "execution_count": 148,
     "metadata": {},
     "output_type": "execute_result"
    }
   ],
   "source": [
    "m = np.array([[0,2, 4],[0,3, 1], [0,65, 23]])\n",
    "print(m.ndim, m.shape)\n",
    "m[:1:-1]"
   ]
  },
  {
   "cell_type": "code",
   "execution_count": 149,
   "id": "b09efac4",
   "metadata": {},
   "outputs": [
    {
     "data": {
      "text/plain": [
       "array([[ 1,  3,  0],\n",
       "       [23, 65,  0]])"
      ]
     },
     "execution_count": 149,
     "metadata": {},
     "output_type": "execute_result"
    }
   ],
   "source": [
    "# aqui vemos que ao colocar a virgula decidimos quais elementos\n",
    "# vamos pegar da segunda dimensão e como. Por exemplo aqui pegamos\n",
    "# os elementos de tras pra frente.\n",
    "\n",
    "m[1:, ::-1]"
   ]
  },
  {
   "cell_type": "code",
   "execution_count": 150,
   "id": "10df46c8",
   "metadata": {},
   "outputs": [
    {
     "name": "stdout",
     "output_type": "stream",
     "text": [
      "[[0, 0], [3, 4]]\n"
     ]
    }
   ],
   "source": [
    "# o mesmo ocorre com arrays\n",
    "qw = [\n",
    "    [1,2],\n",
    "    [3,4]\n",
    "]\n",
    "qw[0] = [0,0]\n",
    "print(qw)"
   ]
  },
  {
   "cell_type": "code",
   "execution_count": 151,
   "id": "04a62a06",
   "metadata": {},
   "outputs": [
    {
     "data": {
      "text/plain": [
       "array([[1, 3, 4],\n",
       "       [3, 1, 4]])"
      ]
     },
     "execution_count": 151,
     "metadata": {},
     "output_type": "execute_result"
    }
   ],
   "source": [
    "ar = np.array([\n",
    "    [1,3,4],\n",
    "    [3,1,4]\n",
    "])\n",
    "ar"
   ]
  },
  {
   "cell_type": "code",
   "execution_count": 152,
   "id": "62110013",
   "metadata": {},
   "outputs": [
    {
     "data": {
      "text/plain": [
       "array([[ 0, 80,  0],\n",
       "       [ 3,  1,  4]])"
      ]
     },
     "execution_count": 152,
     "metadata": {},
     "output_type": "execute_result"
    }
   ],
   "source": [
    "ar[0] = [0,80,0]\n",
    "ar"
   ]
  },
  {
   "cell_type": "code",
   "execution_count": 153,
   "id": "52f602b0",
   "metadata": {},
   "outputs": [
    {
     "data": {
      "text/plain": [
       "array([[ 0, 80,  0],\n",
       "       [ 2,  2,  2]])"
      ]
     },
     "execution_count": 153,
     "metadata": {},
     "output_type": "execute_result"
    }
   ],
   "source": [
    "# caso queira mudar todos elementos de uma linha faço assim:\n",
    "ar[1] = 2\n",
    "ar"
   ]
  },
  {
   "cell_type": "code",
   "execution_count": 154,
   "id": "62c3e466",
   "metadata": {},
   "outputs": [
    {
     "data": {
      "text/plain": [
       "86"
      ]
     },
     "execution_count": 154,
     "metadata": {},
     "output_type": "execute_result"
    }
   ],
   "source": [
    "#a soma de uma array é q nem a somatoria de uma lista\n",
    "ar.sum()"
   ]
  },
  {
   "cell_type": "code",
   "execution_count": 155,
   "id": "624c4250",
   "metadata": {},
   "outputs": [
    {
     "data": {
      "text/plain": [
       "29.380643665893746"
      ]
     },
     "execution_count": 155,
     "metadata": {},
     "output_type": "execute_result"
    }
   ],
   "source": [
    "# desvio padrão de uma array\n",
    "ar.std()"
   ]
  },
  {
   "cell_type": "code",
   "execution_count": 156,
   "id": "5095c5c0",
   "metadata": {},
   "outputs": [
    {
     "data": {
      "text/plain": [
       "0.25"
      ]
     },
     "execution_count": 156,
     "metadata": {},
     "output_type": "execute_result"
    }
   ],
   "source": [
    "# da a variação sla pra q uso isso\n",
    "ac = np.array([1, 2])\n",
    "ac.var()"
   ]
  },
  {
   "cell_type": "code",
   "execution_count": 157,
   "id": "e39d7174",
   "metadata": {},
   "outputs": [
    {
     "data": {
      "text/plain": [
       "14.333333333333334"
      ]
     },
     "execution_count": 157,
     "metadata": {},
     "output_type": "execute_result"
    }
   ],
   "source": [
    "ar.mean() # media"
   ]
  },
  {
   "cell_type": "code",
   "execution_count": 158,
   "id": "01148633",
   "metadata": {},
   "outputs": [
    {
     "name": "stdout",
     "output_type": "stream",
     "text": [
      "(2, 2, 3) 3\n"
     ]
    },
    {
     "data": {
      "text/plain": [
       "array([[ 2,  4,  6],\n",
       "       [ 6,  8, 10]])"
      ]
     },
     "execution_count": 158,
     "metadata": {},
     "output_type": "execute_result"
    }
   ],
   "source": [
    "# podemos somar os eixos de uma matriz tambem\n",
    "# podemos fazer isso com as outras operações também.\n",
    "p = np.array([\n",
    "    [[1,2,3],\n",
    "    [3,4,5]],\n",
    "    [[1,2,3],\n",
    "    [3,4,5]]\n",
    "])\n",
    "print(p.shape, p.ndim)\n",
    "p.sum(axis=0)"
   ]
  },
  {
   "cell_type": "code",
   "execution_count": 159,
   "id": "00b9925f",
   "metadata": {},
   "outputs": [
    {
     "data": {
      "text/plain": [
       "array([0, 1, 2, 3, 4])"
      ]
     },
     "execution_count": 159,
     "metadata": {},
     "output_type": "execute_result"
    }
   ],
   "source": [
    "a = np.arange(5)\n",
    "a"
   ]
  },
  {
   "cell_type": "code",
   "execution_count": 160,
   "id": "7779d1ce",
   "metadata": {},
   "outputs": [
    {
     "data": {
      "text/plain": [
       "array([10, 11, 12, 13, 14])"
      ]
     },
     "execution_count": 160,
     "metadata": {},
     "output_type": "execute_result"
    }
   ],
   "source": [
    "a + 10"
   ]
  },
  {
   "cell_type": "code",
   "execution_count": 161,
   "id": "b6559b62",
   "metadata": {},
   "outputs": [
    {
     "data": {
      "text/plain": [
       "array([0, 2, 4, 6, 8])"
      ]
     },
     "execution_count": 161,
     "metadata": {},
     "output_type": "execute_result"
    }
   ],
   "source": [
    "a * 2"
   ]
  },
  {
   "cell_type": "code",
   "execution_count": 162,
   "id": "1e03c67a",
   "metadata": {},
   "outputs": [],
   "source": [
    "a += 2"
   ]
  },
  {
   "cell_type": "code",
   "execution_count": 163,
   "id": "e98d5b44",
   "metadata": {},
   "outputs": [
    {
     "data": {
      "text/plain": [
       "array([2, 3, 4, 5, 6])"
      ]
     },
     "execution_count": 163,
     "metadata": {},
     "output_type": "execute_result"
    }
   ],
   "source": [
    "a"
   ]
  },
  {
   "cell_type": "code",
   "execution_count": 164,
   "id": "f280bd09",
   "metadata": {},
   "outputs": [],
   "source": [
    "b = np.arange(5)"
   ]
  },
  {
   "cell_type": "code",
   "execution_count": 165,
   "id": "f34aa2c6",
   "metadata": {},
   "outputs": [
    {
     "data": {
      "text/plain": [
       "array([0, 1, 2, 3, 4])"
      ]
     },
     "execution_count": 165,
     "metadata": {},
     "output_type": "execute_result"
    }
   ],
   "source": [
    "b"
   ]
  },
  {
   "cell_type": "code",
   "execution_count": 166,
   "id": "5b97a94f",
   "metadata": {},
   "outputs": [
    {
     "data": {
      "text/plain": [
       "array([ 2,  4,  6,  8, 10])"
      ]
     },
     "execution_count": 166,
     "metadata": {},
     "output_type": "execute_result"
    }
   ],
   "source": [
    "b + a"
   ]
  },
  {
   "cell_type": "code",
   "execution_count": 167,
   "id": "5af14968",
   "metadata": {},
   "outputs": [
    {
     "data": {
      "text/plain": [
       "array([ 0,  3,  8, 15, 24])"
      ]
     },
     "execution_count": 167,
     "metadata": {},
     "output_type": "execute_result"
    }
   ],
   "source": [
    "b * a"
   ]
  },
  {
   "cell_type": "code",
   "execution_count": 168,
   "id": "72a2b67e",
   "metadata": {},
   "outputs": [],
   "source": [
    "b = b + a/2"
   ]
  },
  {
   "cell_type": "code",
   "execution_count": 169,
   "id": "fd7f658e",
   "metadata": {},
   "outputs": [
    {
     "data": {
      "text/plain": [
       "array([1. , 2.5, 4. , 5.5, 7. ])"
      ]
     },
     "execution_count": 169,
     "metadata": {},
     "output_type": "execute_result"
    }
   ],
   "source": [
    "b"
   ]
  },
  {
   "cell_type": "code",
   "execution_count": 170,
   "id": "faf30ad3",
   "metadata": {},
   "outputs": [
    {
     "data": {
      "text/plain": [
       "array([1. , 2.5, 4. , 5.5, 7. ])"
      ]
     },
     "execution_count": 170,
     "metadata": {},
     "output_type": "execute_result"
    }
   ],
   "source": [
    "b[b >= 1]"
   ]
  },
  {
   "cell_type": "code",
   "execution_count": 171,
   "id": "3a9a91c0",
   "metadata": {},
   "outputs": [
    {
     "data": {
      "text/plain": [
       "array([4. , 5.5, 7. ])"
      ]
     },
     "execution_count": 171,
     "metadata": {},
     "output_type": "execute_result"
    }
   ],
   "source": [
    "b[b >= b.mean()]"
   ]
  },
  {
   "cell_type": "code",
   "execution_count": 172,
   "id": "8ceccd92",
   "metadata": {},
   "outputs": [
    {
     "data": {
      "text/plain": [
       "array([1. , 2.5])"
      ]
     },
     "execution_count": 172,
     "metadata": {},
     "output_type": "execute_result"
    }
   ],
   "source": [
    "b[~(b >= b.mean())]"
   ]
  },
  {
   "cell_type": "code",
   "execution_count": 173,
   "id": "6e3f5707",
   "metadata": {},
   "outputs": [
    {
     "data": {
      "text/plain": [
       "array([2.5, 5.5, 7. ])"
      ]
     },
     "execution_count": 173,
     "metadata": {},
     "output_type": "execute_result"
    }
   ],
   "source": [
    "b[(b > 4) | (b == 2.5)]"
   ]
  },
  {
   "cell_type": "code",
   "execution_count": 174,
   "id": "a85cf338",
   "metadata": {},
   "outputs": [],
   "source": [
    "Ronaldo = np.array(np.random.randint(100, size=(2,2,1 )), dtype=np.float64)"
   ]
  },
  {
   "cell_type": "code",
   "execution_count": 175,
   "id": "8a9cadcc",
   "metadata": {},
   "outputs": [
    {
     "data": {
      "text/plain": [
       "array([[[23.],\n",
       "        [32.]],\n",
       "\n",
       "       [[51.],\n",
       "        [ 6.]]])"
      ]
     },
     "execution_count": 175,
     "metadata": {},
     "output_type": "execute_result"
    }
   ],
   "source": [
    "Ronaldo"
   ]
  },
  {
   "cell_type": "code",
   "execution_count": 176,
   "id": "5cbe653a",
   "metadata": {},
   "outputs": [
    {
     "data": {
      "text/plain": [
       "array([ 0, 29])"
      ]
     },
     "execution_count": 176,
     "metadata": {},
     "output_type": "execute_result"
    }
   ],
   "source": [
    "np.random.randint(100, size=(2))"
   ]
  },
  {
   "cell_type": "code",
   "execution_count": 177,
   "id": "5d0b4e07",
   "metadata": {},
   "outputs": [],
   "source": [
    "# multiplicação de matrizes usamos o comando dot ou @\n",
    "a = np.random.randint(10, size = (2,2))\n",
    "b = np.random.randint(10, size = (2,2))"
   ]
  },
  {
   "cell_type": "code",
   "execution_count": 178,
   "id": "13633358",
   "metadata": {},
   "outputs": [
    {
     "data": {
      "text/plain": [
       "array([[8, 1],\n",
       "       [9, 0]])"
      ]
     },
     "execution_count": 178,
     "metadata": {},
     "output_type": "execute_result"
    }
   ],
   "source": [
    "a"
   ]
  },
  {
   "cell_type": "code",
   "execution_count": 179,
   "id": "ea737565",
   "metadata": {},
   "outputs": [
    {
     "data": {
      "text/plain": [
       "array([[2, 0],\n",
       "       [8, 8]])"
      ]
     },
     "execution_count": 179,
     "metadata": {},
     "output_type": "execute_result"
    }
   ],
   "source": [
    "b"
   ]
  },
  {
   "cell_type": "code",
   "execution_count": 180,
   "id": "75cf4516",
   "metadata": {},
   "outputs": [
    {
     "data": {
      "text/plain": [
       "array([[24,  8],\n",
       "       [18,  0]])"
      ]
     },
     "execution_count": 180,
     "metadata": {},
     "output_type": "execute_result"
    }
   ],
   "source": [
    "a.dot(b)"
   ]
  },
  {
   "cell_type": "code",
   "execution_count": 181,
   "id": "140a511f",
   "metadata": {},
   "outputs": [
    {
     "data": {
      "text/plain": [
       "array([[ 16,   2],\n",
       "       [136,   8]])"
      ]
     },
     "execution_count": 181,
     "metadata": {},
     "output_type": "execute_result"
    }
   ],
   "source": [
    "b.dot(a)"
   ]
  },
  {
   "cell_type": "code",
   "execution_count": 182,
   "id": "13272e5d",
   "metadata": {},
   "outputs": [
    {
     "data": {
      "text/plain": [
       "array([[8, 9],\n",
       "       [1, 0]])"
      ]
     },
     "execution_count": 182,
     "metadata": {},
     "output_type": "execute_result"
    }
   ],
   "source": [
    "# pra pegar a matriz transposta usamos T:\n",
    "a.T"
   ]
  },
  {
   "cell_type": "code",
   "execution_count": 183,
   "id": "11a9af61",
   "metadata": {},
   "outputs": [
    {
     "data": {
      "text/plain": [
       "array([[2, 8],\n",
       "       [0, 8]])"
      ]
     },
     "execution_count": 183,
     "metadata": {},
     "output_type": "execute_result"
    }
   ],
   "source": [
    "b.T"
   ]
  },
  {
   "cell_type": "code",
   "execution_count": 207,
   "id": "69afe417",
   "metadata": {},
   "outputs": [
    {
     "data": {
      "text/plain": [
       "32"
      ]
     },
     "execution_count": 207,
     "metadata": {},
     "output_type": "execute_result"
    }
   ],
   "source": [
    "#tamanho de um objeto na memoria do computador:\n",
    "sys.getsizeof(2000000000)"
   ]
  },
  {
   "cell_type": "code",
   "execution_count": 206,
   "id": "5c105de4",
   "metadata": {},
   "outputs": [
    {
     "data": {
      "text/plain": [
       "25"
      ]
     },
     "execution_count": 206,
     "metadata": {},
     "output_type": "execute_result"
    }
   ],
   "source": [
    "sys.getsizeof(np.int8(2000000000))"
   ]
  },
  {
   "cell_type": "code",
   "execution_count": 208,
   "id": "f3664393",
   "metadata": {},
   "outputs": [
    {
     "data": {
      "text/plain": [
       "1"
      ]
     },
     "execution_count": 208,
     "metadata": {},
     "output_type": "execute_result"
    }
   ],
   "source": [
    "np.dtype(np.int8).itemsize"
   ]
  },
  {
   "cell_type": "code",
   "execution_count": 212,
   "id": "a01d8cb8",
   "metadata": {},
   "outputs": [
    {
     "data": {
      "text/plain": [
       "8"
      ]
     },
     "execution_count": 212,
     "metadata": {},
     "output_type": "execute_result"
    }
   ],
   "source": [
    "np.dtype(float).itemsize"
   ]
  },
  {
   "cell_type": "code",
   "execution_count": 216,
   "id": "1f41ef3a",
   "metadata": {},
   "outputs": [
    {
     "data": {
      "text/plain": [
       "2"
      ]
     },
     "execution_count": 216,
     "metadata": {},
     "output_type": "execute_result"
    }
   ],
   "source": [
    "np.dtype(np.float16).itemsize"
   ]
  },
  {
   "cell_type": "code",
   "execution_count": 230,
   "id": "ba65b054",
   "metadata": {},
   "outputs": [
    {
     "name": "stdout",
     "output_type": "stream",
     "text": [
      "Wall time: 18 ms\n"
     ]
    },
    {
     "data": {
      "text/plain": [
       "19999900000"
      ]
     },
     "execution_count": 230,
     "metadata": {},
     "output_type": "execute_result"
    }
   ],
   "source": [
    "%time sum((list(range(200000))))"
   ]
  },
  {
   "cell_type": "code",
   "execution_count": 224,
   "id": "6d1cdb80",
   "metadata": {},
   "outputs": [
    {
     "name": "stdout",
     "output_type": "stream",
     "text": [
      "Wall time: 998 µs\n"
     ]
    },
    {
     "data": {
      "text/plain": [
       "-1474936480"
      ]
     },
     "execution_count": 224,
     "metadata": {},
     "output_type": "execute_result"
    }
   ],
   "source": [
    "%time (np.arange(200000).sum())"
   ]
  },
  {
   "cell_type": "code",
   "execution_count": 231,
   "id": "db59982a",
   "metadata": {},
   "outputs": [
    {
     "data": {
      "text/plain": [
       "231"
      ]
     },
     "execution_count": 231,
     "metadata": {},
     "output_type": "execute_result"
    }
   ],
   "source": [
    "np.arange(22).sum()"
   ]
  },
  {
   "cell_type": "code",
   "execution_count": 232,
   "id": "2ce347d5",
   "metadata": {},
   "outputs": [
    {
     "name": "stdout",
     "output_type": "stream",
     "text": [
      "231\n"
     ]
    }
   ],
   "source": [
    "print(sum(list(range(22))))"
   ]
  },
  {
   "cell_type": "code",
   "execution_count": 238,
   "id": "e728ad9b",
   "metadata": {},
   "outputs": [
    {
     "data": {
      "text/plain": [
       "array([13, 18])"
      ]
     },
     "execution_count": 238,
     "metadata": {},
     "output_type": "execute_result"
    }
   ],
   "source": [
    "np.random.randint(20, size=2)"
   ]
  },
  {
   "cell_type": "code",
   "execution_count": 257,
   "id": "241e9e72",
   "metadata": {},
   "outputs": [
    {
     "data": {
      "text/plain": [
       "array([ 1.94290678,  1.82399794,  1.91931706, -0.78021755,  1.24436195])"
      ]
     },
     "execution_count": 257,
     "metadata": {},
     "output_type": "execute_result"
    }
   ],
   "source": [
    "np.random.normal(size=5)"
   ]
  },
  {
   "cell_type": "code",
   "execution_count": 262,
   "id": "17cf6b44",
   "metadata": {},
   "outputs": [
    {
     "data": {
      "text/plain": [
       "array([[0.03237967, 0.73323787, 0.96530672],\n",
       "       [0.93564482, 0.91232297, 0.14344185]])"
      ]
     },
     "execution_count": 262,
     "metadata": {},
     "output_type": "execute_result"
    }
   ],
   "source": [
    "np.random.rand(2,3)"
   ]
  },
  {
   "cell_type": "code",
   "execution_count": 263,
   "id": "bc98be6c",
   "metadata": {},
   "outputs": [
    {
     "data": {
      "text/plain": [
       "array([[0, 1, 2, 3, 4],\n",
       "       [5, 6, 7, 8, 9]])"
      ]
     },
     "execution_count": 263,
     "metadata": {},
     "output_type": "execute_result"
    }
   ],
   "source": [
    "np.arange(10).reshape(2, 5)\n"
   ]
  },
  {
   "cell_type": "code",
   "execution_count": 268,
   "id": "864fd7e1",
   "metadata": {},
   "outputs": [
    {
     "data": {
      "text/plain": [
       "array([1. , 1.5, 2. , 2.5, 3. ])"
      ]
     },
     "execution_count": 268,
     "metadata": {},
     "output_type": "execute_result"
    }
   ],
   "source": [
    "np.linspace(1, 3, 5)\n",
    "# interessante"
   ]
  },
  {
   "cell_type": "code",
   "execution_count": 276,
   "id": "d5b70ec7",
   "metadata": {},
   "outputs": [
    {
     "data": {
      "text/plain": [
       "array([1. , 1.5, 2. , 2.5, 3. ])"
      ]
     },
     "execution_count": 276,
     "metadata": {},
     "output_type": "execute_result"
    }
   ],
   "source": [
    "np.empty(5)"
   ]
  },
  {
   "cell_type": "code",
   "execution_count": 277,
   "id": "78b6c098",
   "metadata": {},
   "outputs": [
    {
     "data": {
      "text/plain": [
       "array([[0.        , 0.33333333],\n",
       "       [0.66666667, 1.        ]])"
      ]
     },
     "execution_count": 277,
     "metadata": {},
     "output_type": "execute_result"
    }
   ],
   "source": [
    "np.empty((2, 2))"
   ]
  },
  {
   "cell_type": "code",
   "execution_count": 278,
   "id": "2cbd059f",
   "metadata": {},
   "outputs": [
    {
     "data": {
      "text/plain": [
       "array([[1., 0., 0.],\n",
       "       [0., 1., 0.],\n",
       "       [0., 0., 1.]])"
      ]
     },
     "execution_count": 278,
     "metadata": {},
     "output_type": "execute_result"
    }
   ],
   "source": [
    "np.identity(3)"
   ]
  },
  {
   "cell_type": "code",
   "execution_count": 282,
   "id": "838411dd",
   "metadata": {},
   "outputs": [
    {
     "data": {
      "text/plain": [
       "array([[1., 0.],\n",
       "       [0., 1.],\n",
       "       [0., 0.],\n",
       "       [0., 0.]])"
      ]
     },
     "execution_count": 282,
     "metadata": {},
     "output_type": "execute_result"
    }
   ],
   "source": [
    "np.eye(4, 2)"
   ]
  },
  {
   "cell_type": "code",
   "execution_count": 284,
   "id": "b3cc0f40",
   "metadata": {},
   "outputs": [
    {
     "data": {
      "text/plain": [
       "'W'"
      ]
     },
     "execution_count": 284,
     "metadata": {},
     "output_type": "execute_result"
    }
   ],
   "source": [
    "\"Hello World\"[6]"
   ]
  },
  {
   "cell_type": "code",
   "execution_count": null,
   "id": "0359437b",
   "metadata": {},
   "outputs": [],
   "source": []
  }
 ],
 "metadata": {
  "kernelspec": {
   "display_name": "Python 3 (ipykernel)",
   "language": "python",
   "name": "python3"
  },
  "language_info": {
   "codemirror_mode": {
    "name": "ipython",
    "version": 3
   },
   "file_extension": ".py",
   "mimetype": "text/x-python",
   "name": "python",
   "nbconvert_exporter": "python",
   "pygments_lexer": "ipython3",
   "version": "3.9.13"
  }
 },
 "nbformat": 4,
 "nbformat_minor": 5
}
